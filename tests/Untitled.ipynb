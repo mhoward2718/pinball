{
 "cells": [
  {
   "cell_type": "code",
   "execution_count": 1,
   "id": "05c184ad",
   "metadata": {},
   "outputs": [],
   "source": [
    "from unittest.mock import patch"
   ]
  },
  {
   "cell_type": "code",
   "execution_count": 2,
   "id": "5f15470d",
   "metadata": {},
   "outputs": [],
   "source": [
    "from quantreg.br import fit_br"
   ]
  },
  {
   "cell_type": "code",
   "execution_count": 16,
   "id": "4b892888",
   "metadata": {},
   "outputs": [],
   "source": [
    "with patch('quantreg.br.fit_br.fit_br', side_effect = [10, None, 10]):\n",
    "    result = fit_br.fit_br"
   ]
  },
  {
   "cell_type": "code",
   "execution_count": 19,
   "id": "67c20c80",
   "metadata": {},
   "outputs": [
    {
     "data": {
      "text/plain": [
       "10"
      ]
     },
     "execution_count": 19,
     "metadata": {},
     "output_type": "execute_result"
    }
   ],
   "source": [
    "result()"
   ]
  },
  {
   "cell_type": "code",
   "execution_count": 27,
   "id": "f086ab9b",
   "metadata": {},
   "outputs": [],
   "source": [
    "import numpy as np\n",
    "X = np.array([[1,2,3],[4,5,6]])\n",
    "y = np.array([10,100,100])\n",
    "tau = 0.5\n",
    "blo = np.array([0.7,0.8,0.9])\n",
    "bhi = np.array([0.5,0.6,0.7])\n",
    "dyhat = np.matmul(X,bhi-blo)"
   ]
  },
  {
   "cell_type": "code",
   "execution_count": 29,
   "id": "33a6f923",
   "metadata": {},
   "outputs": [
    {
     "data": {
      "text/plain": [
       "20.0"
      ]
     },
     "execution_count": 29,
     "metadata": {},
     "output_type": "execute_result"
    }
   ],
   "source": [
    "(100 * np.sum(dyhat <= 0))/10"
   ]
  },
  {
   "cell_type": "code",
   "execution_count": 32,
   "id": "cbc41139",
   "metadata": {},
   "outputs": [],
   "source": [
    "from unittest.mock import Mock\n",
    "mock = Mock(asdffdsaqwertre='ohyeah')"
   ]
  },
  {
   "cell_type": "code",
   "execution_count": 33,
   "id": "c76c70b2",
   "metadata": {},
   "outputs": [
    {
     "data": {
      "text/plain": [
       "'ohyeah'"
      ]
     },
     "execution_count": 33,
     "metadata": {},
     "output_type": "execute_result"
    }
   ],
   "source": [
    "mock.asdffdsaqwertre"
   ]
  },
  {
   "cell_type": "code",
   "execution_count": 35,
   "id": "6a201247",
   "metadata": {},
   "outputs": [
    {
     "data": {
      "text/plain": [
       "array([3.66685286e-11, 3.66685286e-11])"
      ]
     },
     "execution_count": 35,
     "metadata": {},
     "output_type": "execute_result"
    }
   ],
   "source": [
    "h = 1\n",
    "eps = np.finfo(np.float64).eps ** (2/3)\n",
    "np.maximum(eps, (2 * h)/(dyhat - eps))"
   ]
  },
  {
   "cell_type": "code",
   "execution_count": 40,
   "id": "ffcd0272",
   "metadata": {},
   "outputs": [],
   "source": [
    "# Probably have to consult R to understand what this is supposed\n",
    "# to do"
   ]
  },
  {
   "cell_type": "code",
   "execution_count": 37,
   "id": "e8724f05",
   "metadata": {},
   "outputs": [
    {
     "data": {
      "text/plain": [
       "array([-1.2, -3. ])"
      ]
     },
     "execution_count": 37,
     "metadata": {},
     "output_type": "execute_result"
    }
   ],
   "source": [
    "dyhat"
   ]
  },
  {
   "cell_type": "code",
   "execution_count": 42,
   "id": "273a3cd8",
   "metadata": {},
   "outputs": [
    {
     "ename": "TypeError",
     "evalue": "__init__() missing 2 required positional arguments: 'endog' and 'exog'",
     "output_type": "error",
     "traceback": [
      "\u001b[0;31m---------------------------------------------------------------------------\u001b[0m",
      "\u001b[0;31mTypeError\u001b[0m                                 Traceback (most recent call last)",
      "\u001b[0;32m/tmp/ipykernel_20790/4149570497.py\u001b[0m in \u001b[0;36m<module>\u001b[0;34m\u001b[0m\n\u001b[1;32m      1\u001b[0m \u001b[0;32mfrom\u001b[0m \u001b[0mstatsmodels\u001b[0m\u001b[0;34m.\u001b[0m\u001b[0mregression\u001b[0m\u001b[0;34m.\u001b[0m\u001b[0mlinear_model\u001b[0m \u001b[0;32mimport\u001b[0m \u001b[0mWLS\u001b[0m\u001b[0;34m\u001b[0m\u001b[0;34m\u001b[0m\u001b[0m\n\u001b[1;32m      2\u001b[0m \u001b[0;32mwith\u001b[0m \u001b[0mpatch\u001b[0m\u001b[0;34m(\u001b[0m\u001b[0;34m'statsmodels.regression.linear_model.WLS'\u001b[0m\u001b[0;34m,\u001b[0m \u001b[0mreturn_value\u001b[0m\u001b[0;34m=\u001b[0m\u001b[0;36m5\u001b[0m\u001b[0;34m)\u001b[0m\u001b[0;34m:\u001b[0m\u001b[0;34m\u001b[0m\u001b[0;34m\u001b[0m\u001b[0m\n\u001b[0;32m----> 3\u001b[0;31m     \u001b[0masdf\u001b[0m \u001b[0;34m=\u001b[0m \u001b[0mWLS\u001b[0m\u001b[0;34m(\u001b[0m\u001b[0;34m)\u001b[0m\u001b[0;34m\u001b[0m\u001b[0;34m\u001b[0m\u001b[0m\n\u001b[0m",
      "\u001b[0;31mTypeError\u001b[0m: __init__() missing 2 required positional arguments: 'endog' and 'exog'"
     ]
    }
   ],
   "source": [
    "from statsmodels.regression.linear_model import WLS\n",
    "with patch('statsmodels.regression.linear_model.WLS', return_value=5):\n",
    "    asdf = WLS()"
   ]
  },
  {
   "cell_type": "code",
   "execution_count": null,
   "id": "26ca38ee",
   "metadata": {},
   "outputs": [],
   "source": []
  }
 ],
 "metadata": {
  "kernelspec": {
   "display_name": "Python 3 (ipykernel)",
   "language": "python",
   "name": "python3"
  },
  "language_info": {
   "codemirror_mode": {
    "name": "ipython",
    "version": 3
   },
   "file_extension": ".py",
   "mimetype": "text/x-python",
   "name": "python",
   "nbconvert_exporter": "python",
   "pygments_lexer": "ipython3",
   "version": "3.9.7"
  }
 },
 "nbformat": 4,
 "nbformat_minor": 5
}
