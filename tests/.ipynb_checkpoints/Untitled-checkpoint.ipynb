{
 "cells": [
  {
   "cell_type": "code",
   "execution_count": 1,
   "id": "3ae17387",
   "metadata": {},
   "outputs": [],
   "source": [
    "from unittest.mock import patch"
   ]
  },
  {
   "cell_type": "code",
   "execution_count": 2,
   "id": "6bf26067",
   "metadata": {},
   "outputs": [],
   "source": [
    "from quantreg.br import fit_br"
   ]
  },
  {
   "cell_type": "code",
   "execution_count": 16,
   "id": "a8e257b3",
   "metadata": {},
   "outputs": [],
   "source": [
    "with patch('quantreg.br.fit_br.fit_br', side_effect = [10, None, 10]):\n",
    "    result = fit_br.fit_br"
   ]
  },
  {
   "cell_type": "code",
   "execution_count": 19,
   "id": "4ebdde96",
   "metadata": {},
   "outputs": [
    {
     "data": {
      "text/plain": [
       "10"
      ]
     },
     "execution_count": 19,
     "metadata": {},
     "output_type": "execute_result"
    }
   ],
   "source": [
    "result()"
   ]
  },
  {
   "cell_type": "code",
   "execution_count": 27,
   "id": "112ce7e1",
   "metadata": {},
   "outputs": [],
   "source": [
    "import numpy as np\n",
    "X = np.array([[1,2,3],[4,5,6]])\n",
    "y = np.array([10,100,100])\n",
    "tau = 0.5\n",
    "blo = np.array([0.7,0.8,0.9])\n",
    "bhi = np.array([0.5,0.6,0.7])\n",
    "dyhat = np.matmul(X,bhi-blo)"
   ]
  },
  {
   "cell_type": "code",
   "execution_count": 29,
   "id": "20c8f98a",
   "metadata": {},
   "outputs": [
    {
     "data": {
      "text/plain": [
       "20.0"
      ]
     },
     "execution_count": 29,
     "metadata": {},
     "output_type": "execute_result"
    }
   ],
   "source": [
    "(100 * np.sum(dyhat <= 0))/10"
   ]
  },
  {
   "cell_type": "code",
   "execution_count": 32,
   "id": "ab1ccbdf",
   "metadata": {},
   "outputs": [],
   "source": [
    "from unittest.mock import Mock\n",
    "mock = Mock(asdffdsaqwertre='ohyeah')"
   ]
  },
  {
   "cell_type": "code",
   "execution_count": 33,
   "id": "efa36bbe",
   "metadata": {},
   "outputs": [
    {
     "data": {
      "text/plain": [
       "'ohyeah'"
      ]
     },
     "execution_count": 33,
     "metadata": {},
     "output_type": "execute_result"
    }
   ],
   "source": [
    "mock.asdffdsaqwertre"
   ]
  },
  {
   "cell_type": "code",
   "execution_count": null,
   "id": "64e163de",
   "metadata": {},
   "outputs": [],
   "source": [
    "eps = np.finfo(np.float64).eps ** (2/3)\n",
    "np.maximum(eps, (2 * h)/(dyhat - eps))"
   ]
  }
 ],
 "metadata": {
  "kernelspec": {
   "display_name": "Python 3 (ipykernel)",
   "language": "python",
   "name": "python3"
  },
  "language_info": {
   "codemirror_mode": {
    "name": "ipython",
    "version": 3
   },
   "file_extension": ".py",
   "mimetype": "text/x-python",
   "name": "python",
   "nbconvert_exporter": "python",
   "pygments_lexer": "ipython3",
   "version": "3.9.7"
  }
 },
 "nbformat": 4,
 "nbformat_minor": 5
}
